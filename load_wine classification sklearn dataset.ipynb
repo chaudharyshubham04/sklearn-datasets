{
 "cells": [
  {
   "cell_type": "code",
   "execution_count": 14,
   "metadata": {},
   "outputs": [],
   "source": [
    "import pandas as pd\n",
    "import numpy as np\n",
    "import matplotlib.pyplot as plt\n",
    "%matplotlib inline\n",
    "import seaborn as sns"
   ]
  },
  {
   "cell_type": "code",
   "execution_count": 25,
   "metadata": {},
   "outputs": [],
   "source": [
    "from sklearn.datasets import load_wine"
   ]
  },
  {
   "cell_type": "code",
   "execution_count": 27,
   "metadata": {},
   "outputs": [],
   "source": [
    "wine=load_wine()"
   ]
  },
  {
   "cell_type": "code",
   "execution_count": 39,
   "metadata": {},
   "outputs": [],
   "source": [
    "X=pd.DataFrame(data=wine.data,columns=wine.feature_names)\n",
    "y=wine.target"
   ]
  },
  {
   "cell_type": "code",
   "execution_count": 42,
   "metadata": {},
   "outputs": [],
   "source": [
    "from sklearn.model_selection import train_test_split"
   ]
  },
  {
   "cell_type": "code",
   "execution_count": 43,
   "metadata": {},
   "outputs": [],
   "source": [
    "X_train, X_test, y_train, y_test = train_test_split(X, y, test_size=0.2, random_state=0)"
   ]
  },
  {
   "cell_type": "code",
   "execution_count": 44,
   "metadata": {},
   "outputs": [],
   "source": [
    "from sklearn.linear_model import LogisticRegression\n",
    "from sklearn.tree import DecisionTreeClassifier\n",
    "from sklearn.svm import SVC\n",
    "from sklearn.ensemble import RandomForestClassifier\n",
    "from sklearn.neighbors import KNeighborsClassifier"
   ]
  },
  {
   "cell_type": "code",
   "execution_count": 45,
   "metadata": {},
   "outputs": [],
   "source": [
    "reg=LogisticRegression()\n",
    "tree=DecisionTreeClassifier()\n",
    "svm=SVC()\n",
    "rfc=RandomForestClassifier()\n",
    "kne=KNeighborsClassifier(n_neighbors=int(np.sqrt(len(y))))"
   ]
  },
  {
   "cell_type": "code",
   "execution_count": 47,
   "metadata": {},
   "outputs": [
    {
     "name": "stderr",
     "output_type": "stream",
     "text": [
      "/home/chaudharyshubham/anaconda3/lib/python3.7/site-packages/sklearn/linear_model/_logistic.py:940: ConvergenceWarning: lbfgs failed to converge (status=1):\n",
      "STOP: TOTAL NO. of ITERATIONS REACHED LIMIT.\n",
      "\n",
      "Increase the number of iterations (max_iter) or scale the data as shown in:\n",
      "    https://scikit-learn.org/stable/modules/preprocessing.html\n",
      "Please also refer to the documentation for alternative solver options:\n",
      "    https://scikit-learn.org/stable/modules/linear_model.html#logistic-regression\n",
      "  extra_warning_msg=_LOGISTIC_SOLVER_CONVERGENCE_MSG)\n"
     ]
    }
   ],
   "source": [
    "reg=reg.fit(X_train,y_train)\n",
    "tree=tree.fit(X_train,y_train)\n",
    "svm=svm.fit(X_train,y_train)\n",
    "rfc=rfc.fit(X_train,y_train)\n",
    "kne=kne.fit(X_train,y_train)"
   ]
  },
  {
   "cell_type": "code",
   "execution_count": 48,
   "metadata": {},
   "outputs": [],
   "source": [
    "preg=reg.predict(X_test)\n",
    "ptree=tree.predict(X_test)\n",
    "psvm=svm.predict(X_test)\n",
    "prfc=rfc.predict(X_test)\n",
    "pkne=kne.predict(X_test)"
   ]
  },
  {
   "cell_type": "code",
   "execution_count": 49,
   "metadata": {},
   "outputs": [],
   "source": [
    "from sklearn.metrics import classification_report,confusion_matrix"
   ]
  },
  {
   "cell_type": "code",
   "execution_count": 50,
   "metadata": {},
   "outputs": [
    {
     "name": "stdout",
     "output_type": "stream",
     "text": [
      "preg\n",
      "              precision    recall  f1-score   support\n",
      "\n",
      "           0       0.93      0.93      0.93        14\n",
      "           1       0.93      0.88      0.90        16\n",
      "           2       0.86      1.00      0.92         6\n",
      "\n",
      "    accuracy                           0.92        36\n",
      "   macro avg       0.91      0.93      0.92        36\n",
      "weighted avg       0.92      0.92      0.92        36\n",
      "\n",
      "[[13  1  0]\n",
      " [ 1 14  1]\n",
      " [ 0  0  6]]\n",
      "ptree\n",
      "              precision    recall  f1-score   support\n",
      "\n",
      "           0       0.93      1.00      0.97        14\n",
      "           1       1.00      0.94      0.97        16\n",
      "           2       1.00      1.00      1.00         6\n",
      "\n",
      "    accuracy                           0.97        36\n",
      "   macro avg       0.98      0.98      0.98        36\n",
      "weighted avg       0.97      0.97      0.97        36\n",
      "\n",
      "[[14  0  0]\n",
      " [ 1 15  0]\n",
      " [ 0  0  6]]\n",
      "psvm\n",
      "              precision    recall  f1-score   support\n",
      "\n",
      "           0       1.00      0.93      0.96        14\n",
      "           1       0.80      0.75      0.77        16\n",
      "           2       0.38      0.50      0.43         6\n",
      "\n",
      "    accuracy                           0.78        36\n",
      "   macro avg       0.72      0.73      0.72        36\n",
      "weighted avg       0.81      0.78      0.79        36\n",
      "\n",
      "[[13  0  1]\n",
      " [ 0 12  4]\n",
      " [ 0  3  3]]\n",
      "prfc\n",
      "              precision    recall  f1-score   support\n",
      "\n",
      "           0       1.00      1.00      1.00        14\n",
      "           1       1.00      0.94      0.97        16\n",
      "           2       0.86      1.00      0.92         6\n",
      "\n",
      "    accuracy                           0.97        36\n",
      "   macro avg       0.95      0.98      0.96        36\n",
      "weighted avg       0.98      0.97      0.97        36\n",
      "\n",
      "[[14  0  0]\n",
      " [ 0 15  1]\n",
      " [ 0  0  6]]\n",
      "pkne\n",
      "              precision    recall  f1-score   support\n",
      "\n",
      "           0       1.00      0.93      0.96        14\n",
      "           1       0.73      0.69      0.71        16\n",
      "           2       0.38      0.50      0.43         6\n",
      "\n",
      "    accuracy                           0.75        36\n",
      "   macro avg       0.70      0.71      0.70        36\n",
      "weighted avg       0.78      0.75      0.76        36\n",
      "\n",
      "[[13  1  0]\n",
      " [ 0 11  5]\n",
      " [ 0  3  3]]\n"
     ]
    }
   ],
   "source": [
    "print('preg') \n",
    "print(classification_report(y_test,preg))\n",
    "print(confusion_matrix(y_test,preg))\n",
    "print('ptree') \n",
    "print(classification_report(y_test,ptree))\n",
    "print(confusion_matrix(y_test,ptree))\n",
    "print('psvm') \n",
    "print(classification_report(y_test,psvm))\n",
    "print(confusion_matrix(y_test,psvm))\n",
    "print('prfc') \n",
    "print(classification_report(y_test,prfc))\n",
    "print(confusion_matrix(y_test,prfc))\n",
    "print('pkne') \n",
    "print(classification_report(y_test,pkne))\n",
    "print(confusion_matrix(y_test,pkne))"
   ]
  },
  {
   "cell_type": "code",
   "execution_count": 52,
   "metadata": {},
   "outputs": [
    {
     "name": "stdout",
     "output_type": "stream",
     "text": [
      "0.9166666666666666\n",
      "0.9722222222222222\n",
      "0.7777777777777778\n",
      "0.9722222222222222\n",
      "0.75\n"
     ]
    }
   ],
   "source": [
    "print(reg.score(X_test,y_test) )\n",
    "print(tree.score(X_test,y_test)) \n",
    "print(svm.score(X_test,y_test) )\n",
    "print(rfc.score(X_test,y_test)) \n",
    "print(kne.score(X_test,y_test) )\n",
    "  "
   ]
  },
  {
   "cell_type": "code",
   "execution_count": 26,
   "metadata": {},
   "outputs": [],
   "source": [
    " "
   ]
  },
  {
   "cell_type": "code",
   "execution_count": 27,
   "metadata": {},
   "outputs": [],
   "source": [
    " "
   ]
  },
  {
   "cell_type": "code",
   "execution_count": 28,
   "metadata": {},
   "outputs": [],
   "source": [
    " "
   ]
  },
  {
   "cell_type": "code",
   "execution_count": null,
   "metadata": {},
   "outputs": [],
   "source": [
    " "
   ]
  },
  {
   "cell_type": "code",
   "execution_count": null,
   "metadata": {},
   "outputs": [],
   "source": []
  },
  {
   "cell_type": "code",
   "execution_count": null,
   "metadata": {},
   "outputs": [],
   "source": []
  }
 ],
 "metadata": {
  "kernelspec": {
   "display_name": "Python 3",
   "language": "python",
   "name": "python3"
  },
  "language_info": {
   "codemirror_mode": {
    "name": "ipython",
    "version": 3
   },
   "file_extension": ".py",
   "mimetype": "text/x-python",
   "name": "python",
   "nbconvert_exporter": "python",
   "pygments_lexer": "ipython3",
   "version": "3.7.6"
  }
 },
 "nbformat": 4,
 "nbformat_minor": 4
}
